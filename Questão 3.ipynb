{
 "cells": [
  {
   "cell_type": "code",
   "execution_count": 1,
   "id": "174a7b7a",
   "metadata": {},
   "outputs": [
    {
     "name": "stdout",
     "output_type": "stream",
     "text": [
      "3A) Aplicaria um filtro passa alta\n",
      "3B) Questão elaborada abaixo. O resultado refere-se a visão gerada que permite a visualização somente da camada de mudança abrupta do sinal, ou seja a borda\n"
     ]
    }
   ],
   "source": [
    "print(\"3A) Aplicaria um filtro passa alta\")\n",
    "\n",
    "print(\"3B) Questão elaborada abaixo. O resultado refere-se a visão gerada que permite a visualização somente da camada de mudança abrupta do sinal, ou seja a borda\")"
   ]
  },
  {
   "cell_type": "code",
   "execution_count": 2,
   "id": "95166f55",
   "metadata": {},
   "outputs": [],
   "source": [
    "import cv2\n",
    "import numpy as np\n",
    "import matplotlib.pyplot as plt\n",
    "from math import sqrt,exp\n"
   ]
  },
  {
   "cell_type": "code",
   "execution_count": 3,
   "id": "45d57df2",
   "metadata": {},
   "outputs": [],
   "source": [
    "#DEFININDO OS FILTROS NO DOMÍNIO DA FREQUENCIA:\n",
    "\n",
    "def distance(point1,point2):\n",
    "    return sqrt((point1[0]-point2[0])**2 + (point1[1]-point2[1])**2)\n",
    "\n",
    "def idealFilterLP(D0,imgShape):\n",
    "    base = np.zeros(imgShape[:2])\n",
    "    rows, cols = imgShape[:2]\n",
    "    center = (rows/2,cols/2)\n",
    "    for x in range(cols):\n",
    "        for y in range(rows):\n",
    "            if distance((y,x),center) < D0:\n",
    "                base[y,x] = 1\n",
    "    return base\n",
    "\n",
    "def idealFilterHP(D0,imgShape):\n",
    "    base = np.ones(imgShape[:2])\n",
    "    rows, cols = imgShape[:2]\n",
    "    center = (rows/2,cols/2)\n",
    "    for x in range(cols):\n",
    "        for y in range(rows):\n",
    "            if distance((y,x),center) < D0:\n",
    "                base[y,x] = 0\n",
    "    return base\n",
    "\n",
    "def butterworthLP(D0,imgShape,n):\n",
    "    base = np.zeros(imgShape[:2])\n",
    "    rows, cols = imgShape[:2]\n",
    "    center = (rows/2,cols/2)\n",
    "    for x in range(cols):\n",
    "        for y in range(rows):\n",
    "            base[y,x] = 1/(1+(distance((y,x),center)/D0)**(2*n))\n",
    "    return base\n",
    "\n",
    "def butterworthHP(D0,imgShape,n):\n",
    "    base = np.zeros(imgShape[:2])\n",
    "    rows, cols = imgShape[:2]\n",
    "    center = (rows/2,cols/2)\n",
    "    for x in range(cols):\n",
    "        for y in range(rows):\n",
    "            base[y,x] = 1-1/(1+(distance((y,x),center)/D0)**(2*n))\n",
    "    return base\n",
    "\n",
    "def gaussianLP(D0,imgShape):\n",
    "    base = np.zeros(imgShape[:2])\n",
    "    rows, cols = imgShape[:2]\n",
    "    center = (rows/2,cols/2)\n",
    "    for x in range(cols):\n",
    "        for y in range(rows):\n",
    "            base[y,x] = exp(((-distance((y,x),center)**2)/(2*(D0**2))))\n",
    "    return base\n",
    "\n",
    "def gaussianHP(D0,imgShape):\n",
    "    base = np.zeros(imgShape[:2])\n",
    "    rows, cols = imgShape[:2]\n",
    "    center = (rows/2,cols/2)\n",
    "    for x in range(cols):\n",
    "        for y in range(rows):\n",
    "            base[y,x] = 1 - exp(((-distance((y,x),center)**2)/(2*(D0**2))))\n",
    "    return base"
   ]
  },
  {
   "cell_type": "code",
   "execution_count": 4,
   "id": "f9dc5651",
   "metadata": {},
   "outputs": [
    {
     "data": {
      "image/png": "[encoded data removed]",
      "text/plain": [
       "<Figure size 2304x1728 with 4 Axes>"
      ]
     },
     "metadata": {
      "needs_background": "light"
     },
     "output_type": "display_data"
    }
   ],
   "source": [
    "plt.figure(figsize=(6.4*5, 4.8*5), constrained_layout=False)\n",
    "\n",
    "b = np.array([[10,10,10],[100,100,100],[10,10,10]])\n",
    "resultado = np.fft.fft2(b)\n",
    "plot = np.fft.fftshift(resultado)\n",
    "plt.imshow(np.log(1+np.abs(plot)),\"gray\")\n",
    "\n",
    "\n",
    "#original = resultado\n",
    "\n",
    "#COEFICIENTES DFT2 CENTRALIZADOS\n",
    "center = np.fft.fftshift(resultado)\n",
    "plt.subplot(163), plt.imshow(np.log(1+np.abs(center)), \"gray\"), plt.title(\"Centered Spectrum\")\n",
    "\n",
    "LowPassCenter = center * idealFilterLP(10,b.shape)\n",
    "plt.subplot(164), plt.imshow(np.log(1+np.abs(LowPassCenter)), \"gray\"), plt.title(\"Centered Spectrum multiply Low Pass Filter\")\n",
    "\n",
    "LowPass = np.fft.ifftshift(LowPassCenter)\n",
    "plt.subplot(165), plt.imshow(np.log(1+np.abs(LowPass)), \"gray\"), plt.title(\"Decentralize\")\n",
    "\n",
    "inverse_LowPass = np.fft.ifft2(LowPass)\n",
    "plt.subplot(166), plt.imshow(np.abs(inverse_LowPass), \"gray\"), plt.title(\"Processed Image\")\n",
    "\n",
    "plt.show()"
   ]
  },
  {
   "cell_type": "code",
   "execution_count": 5,
   "id": "5e39d4ee",
   "metadata": {},
   "outputs": [
    {
     "data": {
      "image/png": "[encoded data removed]",
      "text/plain": [
       "<Figure size 2304x1728 with 1 Axes>"
      ]
     },
     "metadata": {
      "needs_background": "light"
     },
     "output_type": "display_data"
    }
   ],
   "source": [
    "\n",
    "plt.figure(figsize=(6.4*5, 4.8*5), constrained_layout=False)\n",
    "\n",
    "\n",
    "HighPass = idealFilterHP(70,b.shape)\n",
    "plt.subplot(132), plt.imshow(HighPass, \"gray\"), plt.title(\"Ideal High Pass Filter\")\n",
    "\n",
    "plt.show()"
   ]
  }
 ],
 "metadata": {
  "kernelspec": {
   "display_name": "Python 3 (ipykernel)",
   "language": "python",
   "name": "python3"
  },
  "language_info": {
   "codemirror_mode": {
    "name": "ipython",
    "version": 3
   },
   "file_extension": ".py",
   "mimetype": "text/x-python",
   "name": "python",
   "nbconvert_exporter": "python",
   "pygments_lexer": "ipython3",
   "version": "3.9.7"
  }
 },
 "nbformat": 4,
 "nbformat_minor": 5
}
