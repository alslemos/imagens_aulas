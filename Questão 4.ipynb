{
 "cells": [
  {
   "cell_type": "code",
   "execution_count": 4,
   "id": "5777c566",
   "metadata": {},
   "outputs": [
    {
     "name": "stdout",
     "output_type": "stream",
     "text": [
      "4A) A questão 4 apresenta duas colunas de valores homogêneos 5,5,6 E 5,6,8. Ainda, os valores da segunda coluna (100,102 e 10aqui podem ser compreendidos como uma figura de borda, detectada pela abrupta mudança de valor do sinal\n",
      "\n",
      "4B) Teremos 9 funções de base para cada uma das partes\n",
      "----------\n",
      "[[  8   6 100]\n",
      " [  5   5 100]\n",
      " [  6   5 102]]\n",
      "Não consegui finalizar a questão\n"
     ]
    },
    {
     "data": {
      "image/png": "[encoded data removed]",
      "text/plain": [
       "<Figure size 432x288 with 1 Axes>"
      ]
     },
     "metadata": {
      "needs_background": "light"
     },
     "output_type": "display_data"
    }
   ],
   "source": [
    "import cv2\n",
    "import numpy as np\n",
    "import matplotlib.pyplot as plt\n",
    "from math import sqrt,exp\n",
    "\n",
    "\n",
    "print(\"4A) A questão 4 apresenta duas colunas de valores homogêneos 5,5,6 E 5,6,8. Ainda, os valores da segunda coluna (100,102 e 10aqui podem ser compreendidos como uma figura de borda, detectada pela abrupta mudança de valor do sinal\")\n",
    "\n",
    "\n",
    "print(\"\\n4B) Teremos 9 funções de base para cada uma das partes\")\n",
    "\n",
    "b = np.array([[5,100,5],[5,102,6],[6,100,8]])\n",
    "print(\"----------\")\n",
    "plot = np.fft.fftshift(b)\n",
    "print(plot)\n",
    "plt.imshow(np.log(1+np.abs(plot)),\"gray\")\n",
    "\n",
    "\n",
    "#CALCULO E PLOT DOS COEFICIENTES DFT2D\n",
    "original = np.fft.fft2(b)\n",
    "plt.subplot(162), plt.imshow(np.log(1+np.abs(original)), \"gray\"), plt.title(\"espectro\")\n",
    "\n",
    "print(\"Não consegui finalizar a questão\")"
   ]
  },
  {
   "cell_type": "code",
   "execution_count": null,
   "id": "b0463ac8",
   "metadata": {},
   "outputs": [],
   "source": []
  }
 ],
 "metadata": {
  "kernelspec": {
   "display_name": "Python 3 (ipykernel)",
   "language": "python",
   "name": "python3"
  },
  "language_info": {
   "codemirror_mode": {
    "name": "ipython",
    "version": 3
   },
   "file_extension": ".py",
   "mimetype": "text/x-python",
   "name": "python",
   "nbconvert_exporter": "python",
   "pygments_lexer": "ipython3",
   "version": "3.9.7"
  }
 },
 "nbformat": 4,
 "nbformat_minor": 5
}
