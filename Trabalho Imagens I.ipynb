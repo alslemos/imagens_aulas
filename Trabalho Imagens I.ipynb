{
 "cells": [
  {
   "cell_type": "code",
   "execution_count": 21,
   "id": "ad0b9764",
   "metadata": {},
   "outputs": [],
   "source": [
    "import cv2\n",
    "import numpy as np\n",
    "import matplotlib.pyplot as plt\n",
    "from math import sqrt,exp"
   ]
  },
  {
   "cell_type": "code",
   "execution_count": 25,
   "id": "f7da36cf",
   "metadata": {},
   "outputs": [
    {
     "name": "stdout",
     "output_type": "stream",
     "text": [
      "[[1 2 1]\n",
      " [2 1 2]\n",
      " [1 1 2]]\n",
      "----------\n",
      "[[13. +0.j         -0.5+0.8660254j  -0.5-0.8660254j ]\n",
      " [-0.5-0.8660254j  -0.5-2.59807621j -0.5+0.8660254j ]\n",
      " [-0.5+0.8660254j  -0.5-0.8660254j  -0.5+2.59807621j]]\n",
      "----------\n",
      "[[-0.5+2.59807621j -0.5+0.8660254j  -0.5-0.8660254j ]\n",
      " [-0.5-0.8660254j  13. +0.j         -0.5+0.8660254j ]\n",
      " [-0.5+0.8660254j  -0.5-0.8660254j  -0.5-2.59807621j]]\n"
     ]
    },
    {
     "data": {
      "text/plain": [
       "<matplotlib.image.AxesImage at 0x2cb311dfa60>"
      ]
     },
     "execution_count": 25,
     "metadata": {},
     "output_type": "execute_result"
    },
    {
     "data": {
      "image/png": "[encoded data removed]",
      "text/plain": [
       "<Figure size 432x288 with 1 Axes>"
      ]
     },
     "metadata": {
      "needs_background": "light"
     },
     "output_type": "display_data"
    }
   ],
   "source": [
    "# a = np.mgrid([[1,2,1],[2,1,2],[1,1,2]])\n",
    "#a = np.mgrid[:3, :3][1,2,1]\n",
    "#print(a)\n",
    "b = np.array([[1,2,1],[2,1,2],[1,1,2]])\n",
    "print(b)\n",
    "print(\"----------\")\n",
    "resultado = np.fft.fft2(b)\n",
    "print(resultado)\n",
    "print(\"----------\")\n",
    "plot = np.fft.fftshift(resultado)\n",
    "print(plot)\n",
    "plt.imshow(np.log(1+np.abs(plot)),\"gray\")"
   ]
  },
  {
   "cell_type": "code",
   "execution_count": null,
   "id": "2d4987a2",
   "metadata": {},
   "outputs": [],
   "source": []
  }
 ],
 "metadata": {
  "kernelspec": {
   "display_name": "Python 3 (ipykernel)",
   "language": "python",
   "name": "python3"
  },
  "language_info": {
   "codemirror_mode": {
    "name": "ipython",
    "version": 3
   },
   "file_extension": ".py",
   "mimetype": "text/x-python",
   "name": "python",
   "nbconvert_exporter": "python",
   "pygments_lexer": "ipython3",
   "version": "3.9.7"
  }
 },
 "nbformat": 4,
 "nbformat_minor": 5
}
